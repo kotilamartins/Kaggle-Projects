{
 "cells": [
  {
   "cell_type": "markdown",
   "id": "b54a0cb1",
   "metadata": {
    "papermill": {
     "duration": 0.007316,
     "end_time": "2023-07-25T03:22:08.657392",
     "exception": false,
     "start_time": "2023-07-25T03:22:08.650076",
     "status": "completed"
    },
    "tags": []
   },
   "source": [
    "**This notebook is an exercise in the [Intermediate Machine Learning](https://www.kaggle.com/learn/intermediate-machine-learning) course.  You can reference the tutorial at [this link](https://www.kaggle.com/alexisbcook/xgboost).**\n",
    "\n",
    "---\n"
   ]
  },
  {
   "cell_type": "markdown",
   "id": "e7574982",
   "metadata": {
    "papermill": {
     "duration": 0.006565,
     "end_time": "2023-07-25T03:22:08.671033",
     "exception": false,
     "start_time": "2023-07-25T03:22:08.664468",
     "status": "completed"
    },
    "tags": []
   },
   "source": [
    "In this exercise, you will use your new knowledge to train a model with **gradient boosting**.\n",
    "\n",
    "# Setup\n",
    "\n",
    "The questions below will give you feedback on your work. Run the following cell to set up the feedback system."
   ]
  },
  {
   "cell_type": "code",
   "execution_count": 1,
   "id": "4fbf92ff",
   "metadata": {
    "execution": {
     "iopub.execute_input": "2023-07-25T03:22:08.686836Z",
     "iopub.status.busy": "2023-07-25T03:22:08.686354Z",
     "iopub.status.idle": "2023-07-25T03:22:11.196163Z",
     "shell.execute_reply": "2023-07-25T03:22:11.193975Z"
    },
    "papermill": {
     "duration": 2.520896,
     "end_time": "2023-07-25T03:22:11.198891",
     "exception": false,
     "start_time": "2023-07-25T03:22:08.677995",
     "status": "completed"
    },
    "tags": []
   },
   "outputs": [
    {
     "name": "stderr",
     "output_type": "stream",
     "text": [
      "/opt/conda/lib/python3.10/site-packages/scipy/__init__.py:146: UserWarning: A NumPy version >=1.16.5 and <1.23.0 is required for this version of SciPy (detected version 1.23.5\n",
      "  warnings.warn(f\"A NumPy version >={np_minversion} and <{np_maxversion}\"\n"
     ]
    },
    {
     "name": "stdout",
     "output_type": "stream",
     "text": [
      "Setup Complete\n"
     ]
    }
   ],
   "source": [
    "# Set up code checking\n",
    "import os\n",
    "if not os.path.exists(\"../input/train.csv\"):\n",
    "    os.symlink(\"../input/home-data-for-ml-course/train.csv\", \"../input/train.csv\")  \n",
    "    os.symlink(\"../input/home-data-for-ml-course/test.csv\", \"../input/test.csv\") \n",
    "from learntools.core import binder\n",
    "binder.bind(globals())\n",
    "from learntools.ml_intermediate.ex6 import *\n",
    "print(\"Setup Complete\")"
   ]
  },
  {
   "cell_type": "markdown",
   "id": "56640d04",
   "metadata": {
    "papermill": {
     "duration": 0.006631,
     "end_time": "2023-07-25T03:22:11.213299",
     "exception": false,
     "start_time": "2023-07-25T03:22:11.206668",
     "status": "completed"
    },
    "tags": []
   },
   "source": [
    "You will work with the [Housing Prices Competition for Kaggle Learn Users](https://www.kaggle.com/c/home-data-for-ml-course) dataset from the previous exercise. \n",
    "\n",
    "![Ames Housing dataset image](https://storage.googleapis.com/kaggle-media/learn/images/lTJVG4e.png)\n",
    "\n",
    "Run the next code cell without changes to load the training and validation sets in `X_train`, `X_valid`, `y_train`, and `y_valid`.  The test set is loaded in `X_test`."
   ]
  },
  {
   "cell_type": "code",
   "execution_count": 2,
   "id": "28d541c0",
   "metadata": {
    "execution": {
     "iopub.execute_input": "2023-07-25T03:22:11.228476Z",
     "iopub.status.busy": "2023-07-25T03:22:11.228068Z",
     "iopub.status.idle": "2023-07-25T03:22:11.436014Z",
     "shell.execute_reply": "2023-07-25T03:22:11.435052Z"
    },
    "papermill": {
     "duration": 0.218879,
     "end_time": "2023-07-25T03:22:11.438839",
     "exception": false,
     "start_time": "2023-07-25T03:22:11.219960",
     "status": "completed"
    },
    "tags": []
   },
   "outputs": [],
   "source": [
    "import pandas as pd\n",
    "from sklearn.model_selection import train_test_split\n",
    "\n",
    "# Read the data\n",
    "X = pd.read_csv('../input/train.csv', index_col='Id')\n",
    "X_test_full = pd.read_csv('../input/test.csv', index_col='Id')\n",
    "mum = X.copy()\n",
    "# Remove rows with missing target, separate target from predictors\n",
    "X.dropna(axis=0, subset=['SalePrice'], inplace=True)\n",
    "y = X.SalePrice              \n",
    "X.drop(['SalePrice'], axis=1, inplace=True)\n",
    "\n",
    "# Break off validation set from training data\n",
    "X_train_full, X_valid_full, y_train, y_valid = train_test_split(X, y, train_size=0.8, test_size=0.2,\n",
    "                                                                random_state=0)\n",
    "\n",
    "# \"Cardinality\" means the number of unique values in a column\n",
    "# Select categorical columns with relatively low cardinality (convenient but arbitrary)\n",
    "low_cardinality_cols = [cname for cname in X_train_full.columns if X_train_full[cname].nunique() < 10 and \n",
    "                        X_train_full[cname].dtype == \"object\"]\n",
    "\n",
    "# Select numeric columns\n",
    "numeric_cols = [cname for cname in X_train_full.columns if X_train_full[cname].dtype in ['int64', 'float64']]\n",
    "\n",
    "# Keep selected columns only\n",
    "my_cols = low_cardinality_cols + numeric_cols\n",
    "X_train = X_train_full[my_cols].copy()\n",
    "X_valid = X_valid_full[my_cols].copy()\n",
    "X_test = X_test_full[my_cols].copy()\n",
    "\n",
    "# One-hot encode the data (to shorten the code, we use pandas)\n",
    "X_train = pd.get_dummies(X_train)\n",
    "X_valid = pd.get_dummies(X_valid)\n",
    "X_test = pd.get_dummies(X_test)\n",
    "X_train, X_valid = X_train.align(X_valid, join='left', axis=1)\n",
    "X_train, X_test = X_train.align(X_test, join='left', axis=1)"
   ]
  },
  {
   "cell_type": "markdown",
   "id": "129f2421",
   "metadata": {
    "papermill": {
     "duration": 0.00831,
     "end_time": "2023-07-25T03:22:11.454354",
     "exception": false,
     "start_time": "2023-07-25T03:22:11.446044",
     "status": "completed"
    },
    "tags": []
   },
   "source": [
    "# Step 1: Build model\n",
    "\n",
    "### Part A\n",
    "\n",
    "In this step, you'll build and train your first model with gradient boosting.\n",
    "\n",
    "- Begin by setting `my_model_1` to an XGBoost model.  Use the [XGBRegressor](https://xgboost.readthedocs.io/en/latest/python/python_api.html#xgboost.XGBRegressor) class, and set the random seed to 0 (`random_state=0`).  **Leave all other parameters as default.**\n",
    "- Then, fit the model to the training data in `X_train` and `y_train`."
   ]
  },
  {
   "cell_type": "code",
   "execution_count": 3,
   "id": "91caa35b",
   "metadata": {
    "execution": {
     "iopub.execute_input": "2023-07-25T03:22:11.470100Z",
     "iopub.status.busy": "2023-07-25T03:22:11.469657Z",
     "iopub.status.idle": "2023-07-25T03:22:12.304248Z",
     "shell.execute_reply": "2023-07-25T03:22:12.303378Z"
    },
    "papermill": {
     "duration": 0.845538,
     "end_time": "2023-07-25T03:22:12.306882",
     "exception": false,
     "start_time": "2023-07-25T03:22:11.461344",
     "status": "completed"
    },
    "tags": []
   },
   "outputs": [
    {
     "data": {
      "application/javascript": [
       "parent.postMessage({\"jupyterEvent\": \"custom.exercise_interaction\", \"data\": {\"outcomeType\": 1, \"valueTowardsCompletion\": 0.5, \"interactionType\": 1, \"questionType\": 2, \"questionId\": \"1.1_Model1A\", \"learnToolsVersion\": \"0.3.4\", \"failureMessage\": \"\", \"exceptionClass\": \"\", \"trace\": \"\"}}, \"*\")"
      ],
      "text/plain": [
       "<IPython.core.display.Javascript object>"
      ]
     },
     "metadata": {},
     "output_type": "display_data"
    },
    {
     "data": {
      "text/markdown": [
       "<span style=\"color:#33cc33\">Correct</span>"
      ],
      "text/plain": [
       "Correct"
      ]
     },
     "metadata": {},
     "output_type": "display_data"
    }
   ],
   "source": [
    "from xgboost import XGBRegressor\n",
    "\n",
    "# Define the model\n",
    "my_model_1 = XGBRegressor(random_state = 0) # Your code here\n",
    "\n",
    "# Fit the model\n",
    "my_model_1.fit(X_train, y_train) # Your code here\n",
    "\n",
    "# Check your answer\n",
    "step_1.a.check()"
   ]
  },
  {
   "cell_type": "code",
   "execution_count": 4,
   "id": "4fa959bb",
   "metadata": {
    "execution": {
     "iopub.execute_input": "2023-07-25T03:22:12.323494Z",
     "iopub.status.busy": "2023-07-25T03:22:12.323049Z",
     "iopub.status.idle": "2023-07-25T03:22:12.327321Z",
     "shell.execute_reply": "2023-07-25T03:22:12.326478Z"
    },
    "papermill": {
     "duration": 0.014781,
     "end_time": "2023-07-25T03:22:12.329352",
     "exception": false,
     "start_time": "2023-07-25T03:22:12.314571",
     "status": "completed"
    },
    "tags": []
   },
   "outputs": [],
   "source": [
    "# Lines below will give you a hint or solution code\n",
    "#step_1.a.hint()\n",
    "#step_1.a.solution()"
   ]
  },
  {
   "cell_type": "markdown",
   "id": "eae4b926",
   "metadata": {
    "papermill": {
     "duration": 0.007001,
     "end_time": "2023-07-25T03:22:12.343647",
     "exception": false,
     "start_time": "2023-07-25T03:22:12.336646",
     "status": "completed"
    },
    "tags": []
   },
   "source": [
    "### Part B\n",
    "\n",
    "Set `predictions_1` to the model's predictions for the validation data.  Recall that the validation features are stored in `X_valid`."
   ]
  },
  {
   "cell_type": "code",
   "execution_count": 5,
   "id": "31fff570",
   "metadata": {
    "execution": {
     "iopub.execute_input": "2023-07-25T03:22:12.359887Z",
     "iopub.status.busy": "2023-07-25T03:22:12.359104Z",
     "iopub.status.idle": "2023-07-25T03:22:12.385917Z",
     "shell.execute_reply": "2023-07-25T03:22:12.385031Z"
    },
    "papermill": {
     "duration": 0.037791,
     "end_time": "2023-07-25T03:22:12.388550",
     "exception": false,
     "start_time": "2023-07-25T03:22:12.350759",
     "status": "completed"
    },
    "tags": []
   },
   "outputs": [
    {
     "data": {
      "application/javascript": [
       "parent.postMessage({\"jupyterEvent\": \"custom.exercise_interaction\", \"data\": {\"outcomeType\": 1, \"valueTowardsCompletion\": 0.5, \"interactionType\": 1, \"questionType\": 2, \"questionId\": \"1.2_Model1B\", \"learnToolsVersion\": \"0.3.4\", \"failureMessage\": \"\", \"exceptionClass\": \"\", \"trace\": \"\"}}, \"*\")"
      ],
      "text/plain": [
       "<IPython.core.display.Javascript object>"
      ]
     },
     "metadata": {},
     "output_type": "display_data"
    },
    {
     "data": {
      "text/markdown": [
       "<span style=\"color:#33cc33\">Correct</span>"
      ],
      "text/plain": [
       "Correct"
      ]
     },
     "metadata": {},
     "output_type": "display_data"
    }
   ],
   "source": [
    "from sklearn.metrics import mean_absolute_error\n",
    "\n",
    "# Get predictions\n",
    "predictions_1 = my_model_1.predict(X_valid) # Your code here\n",
    "\n",
    "# Check your answer\n",
    "step_1.b.check()"
   ]
  },
  {
   "cell_type": "code",
   "execution_count": 6,
   "id": "5c6d8ef5",
   "metadata": {
    "execution": {
     "iopub.execute_input": "2023-07-25T03:22:12.406439Z",
     "iopub.status.busy": "2023-07-25T03:22:12.406055Z",
     "iopub.status.idle": "2023-07-25T03:22:12.410556Z",
     "shell.execute_reply": "2023-07-25T03:22:12.409414Z"
    },
    "papermill": {
     "duration": 0.015921,
     "end_time": "2023-07-25T03:22:12.412824",
     "exception": false,
     "start_time": "2023-07-25T03:22:12.396903",
     "status": "completed"
    },
    "tags": []
   },
   "outputs": [],
   "source": [
    "# Lines below will give you a hint or solution code\n",
    "#step_1.b.hint()\n",
    "#step_1.b.solution()"
   ]
  },
  {
   "cell_type": "markdown",
   "id": "41be4705",
   "metadata": {
    "papermill": {
     "duration": 0.007548,
     "end_time": "2023-07-25T03:22:12.428040",
     "exception": false,
     "start_time": "2023-07-25T03:22:12.420492",
     "status": "completed"
    },
    "tags": []
   },
   "source": [
    "### Part C\n",
    "\n",
    "Finally, use the `mean_absolute_error()` function to calculate the mean absolute error (MAE) corresponding to the predictions for the validation set.  Recall that the labels for the validation data are stored in `y_valid`."
   ]
  },
  {
   "cell_type": "code",
   "execution_count": 7,
   "id": "6ac668c0",
   "metadata": {
    "execution": {
     "iopub.execute_input": "2023-07-25T03:22:12.445875Z",
     "iopub.status.busy": "2023-07-25T03:22:12.445001Z",
     "iopub.status.idle": "2023-07-25T03:22:12.455630Z",
     "shell.execute_reply": "2023-07-25T03:22:12.454567Z"
    },
    "papermill": {
     "duration": 0.022422,
     "end_time": "2023-07-25T03:22:12.458078",
     "exception": false,
     "start_time": "2023-07-25T03:22:12.435656",
     "status": "completed"
    },
    "tags": []
   },
   "outputs": [
    {
     "name": "stdout",
     "output_type": "stream",
     "text": [
      "Mean Absolute Error: 17662.736729452055\n"
     ]
    },
    {
     "data": {
      "application/javascript": [
       "parent.postMessage({\"jupyterEvent\": \"custom.exercise_interaction\", \"data\": {\"outcomeType\": 1, \"valueTowardsCompletion\": 0.5, \"interactionType\": 1, \"questionType\": 2, \"questionId\": \"1.3_Model1C\", \"learnToolsVersion\": \"0.3.4\", \"failureMessage\": \"\", \"exceptionClass\": \"\", \"trace\": \"\"}}, \"*\")"
      ],
      "text/plain": [
       "<IPython.core.display.Javascript object>"
      ]
     },
     "metadata": {},
     "output_type": "display_data"
    },
    {
     "data": {
      "text/markdown": [
       "<span style=\"color:#33cc33\">Correct</span>"
      ],
      "text/plain": [
       "Correct"
      ]
     },
     "metadata": {},
     "output_type": "display_data"
    }
   ],
   "source": [
    "# Calculate MAE\n",
    "mae_1 = mean_absolute_error(y_valid, predictions_1) # Your code here\n",
    "\n",
    "# Uncomment to print MAE\n",
    "print(\"Mean Absolute Error:\" , mae_1)\n",
    "\n",
    "# Check your answer\n",
    "step_1.c.check()"
   ]
  },
  {
   "cell_type": "code",
   "execution_count": 8,
   "id": "e91178c4",
   "metadata": {
    "execution": {
     "iopub.execute_input": "2023-07-25T03:22:12.476008Z",
     "iopub.status.busy": "2023-07-25T03:22:12.475612Z",
     "iopub.status.idle": "2023-07-25T03:22:12.479653Z",
     "shell.execute_reply": "2023-07-25T03:22:12.478685Z"
    },
    "papermill": {
     "duration": 0.015725,
     "end_time": "2023-07-25T03:22:12.481916",
     "exception": false,
     "start_time": "2023-07-25T03:22:12.466191",
     "status": "completed"
    },
    "tags": []
   },
   "outputs": [],
   "source": [
    "# Lines below will give you a hint or solution code\n",
    "#step_1.c.hint()\n",
    "#step_1.c.solution()"
   ]
  },
  {
   "cell_type": "markdown",
   "id": "f6e126e4",
   "metadata": {
    "papermill": {
     "duration": 0.008197,
     "end_time": "2023-07-25T03:22:12.498862",
     "exception": false,
     "start_time": "2023-07-25T03:22:12.490665",
     "status": "completed"
    },
    "tags": []
   },
   "source": [
    "# Step 2: Improve the model\n",
    "\n",
    "Now that you've trained a default model as baseline, it's time to tinker with the parameters, to see if you can get better performance!\n",
    "- Begin by setting `my_model_2` to an XGBoost model, using the [XGBRegressor](https://xgboost.readthedocs.io/en/latest/python/python_api.html#xgboost.XGBRegressor) class.  Use what you learned in the previous tutorial to figure out how to change the default parameters (like `n_estimators` and `learning_rate`) to get better results.\n",
    "- Then, fit the model to the training data in `X_train` and `y_train`.\n",
    "- Set `predictions_2` to the model's predictions for the validation data.  Recall that the validation features are stored in `X_valid`.\n",
    "- Finally, use the `mean_absolute_error()` function to calculate the mean absolute error (MAE) corresponding to the predictions on the validation set.  Recall that the labels for the validation data are stored in `y_valid`.\n",
    "\n",
    "In order for this step to be marked correct, your model in `my_model_2` must attain lower MAE than the model in `my_model_1`. "
   ]
  },
  {
   "cell_type": "code",
   "execution_count": 9,
   "id": "e5b84a7a",
   "metadata": {
    "execution": {
     "iopub.execute_input": "2023-07-25T03:22:12.517669Z",
     "iopub.status.busy": "2023-07-25T03:22:12.517054Z",
     "iopub.status.idle": "2023-07-25T03:22:16.433710Z",
     "shell.execute_reply": "2023-07-25T03:22:16.432799Z"
    },
    "papermill": {
     "duration": 3.929102,
     "end_time": "2023-07-25T03:22:16.436257",
     "exception": false,
     "start_time": "2023-07-25T03:22:12.507155",
     "status": "completed"
    },
    "tags": []
   },
   "outputs": [
    {
     "name": "stdout",
     "output_type": "stream",
     "text": [
      "Mean Absolute Error: 16664.20950610017\n"
     ]
    },
    {
     "data": {
      "application/javascript": [
       "parent.postMessage({\"jupyterEvent\": \"custom.exercise_interaction\", \"data\": {\"outcomeType\": 1, \"valueTowardsCompletion\": 0.5, \"interactionType\": 1, \"questionType\": 2, \"questionId\": \"2_Model2\", \"learnToolsVersion\": \"0.3.4\", \"failureMessage\": \"\", \"exceptionClass\": \"\", \"trace\": \"\"}}, \"*\")"
      ],
      "text/plain": [
       "<IPython.core.display.Javascript object>"
      ]
     },
     "metadata": {},
     "output_type": "display_data"
    },
    {
     "data": {
      "text/markdown": [
       "<span style=\"color:#33cc33\">Correct</span>"
      ],
      "text/plain": [
       "Correct"
      ]
     },
     "metadata": {},
     "output_type": "display_data"
    }
   ],
   "source": [
    "# Define the model\n",
    "my_model_2 = XGBRegressor(random_state =0, n_estimators = 500, learning_rate = 0.037) # Your code here\n",
    "\n",
    "# Fit the model\n",
    "my_model_2.fit(X_train, y_train) # Your code here\n",
    "\n",
    "# Get predictions\n",
    "predictions_2 = my_model_2.predict(X_valid) # Your code here\n",
    "\n",
    "# Calculate MAE\n",
    "mae_2 = mean_absolute_error(y_valid, predictions_2) # Your code here\n",
    "\n",
    "# Uncomment to print MAE\n",
    "print(\"Mean Absolute Error:\" , mae_2)\n",
    "\n",
    "# Check your answer\n",
    "step_2.check()"
   ]
  },
  {
   "cell_type": "code",
   "execution_count": 10,
   "id": "0e750a72",
   "metadata": {
    "execution": {
     "iopub.execute_input": "2023-07-25T03:22:16.456395Z",
     "iopub.status.busy": "2023-07-25T03:22:16.455989Z",
     "iopub.status.idle": "2023-07-25T03:22:16.484647Z",
     "shell.execute_reply": "2023-07-25T03:22:16.483329Z"
    },
    "papermill": {
     "duration": 0.041373,
     "end_time": "2023-07-25T03:22:16.487229",
     "exception": false,
     "start_time": "2023-07-25T03:22:16.445856",
     "status": "completed"
    },
    "tags": []
   },
   "outputs": [
    {
     "name": "stdout",
     "output_type": "stream",
     "text": [
      "               SalePrice\n",
      "215487.000000        NaN\n",
      "152998.546875        NaN\n",
      "112416.812500        NaN\n",
      "216080.296875        NaN\n",
      "90923.179688         NaN\n",
      "...                  ...\n",
      "284339.343750        NaN\n",
      "554029.125000        NaN\n",
      "171825.171875        NaN\n",
      "83101.218750         NaN\n",
      "92287.101562         NaN\n",
      "\n",
      "[292 rows x 1 columns]\n",
      "Id\n",
      "530     200624\n",
      "492     133000\n",
      "460     110000\n",
      "280     192000\n",
      "656      88000\n",
      "         ...  \n",
      "327     324000\n",
      "441     555000\n",
      "1388    136000\n",
      "1324     82500\n",
      "62      101000\n",
      "Name: SalePrice, Length: 292, dtype: int64\n",
      "MSSubClass      -0.084284\n",
      "LotFrontage      0.351799\n",
      "LotArea          0.263843\n",
      "OverallQual      0.790982\n",
      "OverallCond     -0.077856\n",
      "YearBuilt        0.522897\n",
      "YearRemodAdd     0.507101\n",
      "MasVnrArea       0.477493\n",
      "BsmtFinSF1       0.386420\n",
      "BsmtFinSF2      -0.011378\n",
      "BsmtUnfSF        0.214479\n",
      "TotalBsmtSF      0.613581\n",
      "1stFlrSF         0.605852\n",
      "2ndFlrSF         0.319334\n",
      "LowQualFinSF    -0.025606\n",
      "GrLivArea        0.708624\n",
      "BsmtFullBath     0.227122\n",
      "BsmtHalfBath    -0.016844\n",
      "FullBath         0.560664\n",
      "HalfBath         0.284108\n",
      "BedroomAbvGr     0.168213\n",
      "KitchenAbvGr    -0.135907\n",
      "TotRmsAbvGrd     0.533723\n",
      "Fireplaces       0.466929\n",
      "GarageYrBlt      0.486362\n",
      "GarageCars       0.640409\n",
      "GarageArea       0.623431\n",
      "WoodDeckSF       0.324413\n",
      "OpenPorchSF      0.315856\n",
      "EnclosedPorch   -0.128578\n",
      "3SsnPorch        0.044584\n",
      "ScreenPorch      0.111447\n",
      "PoolArea         0.092404\n",
      "MiscVal         -0.021190\n",
      "MoSold           0.046432\n",
      "YrSold          -0.028923\n",
      "SalePrice        1.000000\n",
      "Name: SalePrice, dtype: float64\n"
     ]
    },
    {
     "name": "stderr",
     "output_type": "stream",
     "text": [
      "/tmp/ipykernel_21/122678753.py:5: FutureWarning: The default value of numeric_only in DataFrame.corr is deprecated. In a future version, it will default to False. Select only valid columns or specify the value of numeric_only to silence this warning.\n",
      "  correlation = df.corr()['SalePrice']\n"
     ]
    }
   ],
   "source": [
    "print(pd.DataFrame(y_valid, predictions_2))\n",
    "print(y_valid)\n",
    "\n",
    "df = pd.DataFrame(mum)\n",
    "correlation = df.corr()['SalePrice']\n",
    "print(correlation)"
   ]
  },
  {
   "cell_type": "code",
   "execution_count": 11,
   "id": "c184a73f",
   "metadata": {
    "execution": {
     "iopub.execute_input": "2023-07-25T03:22:16.506929Z",
     "iopub.status.busy": "2023-07-25T03:22:16.506253Z",
     "iopub.status.idle": "2023-07-25T03:22:16.510012Z",
     "shell.execute_reply": "2023-07-25T03:22:16.509253Z"
    },
    "papermill": {
     "duration": 0.016019,
     "end_time": "2023-07-25T03:22:16.512038",
     "exception": false,
     "start_time": "2023-07-25T03:22:16.496019",
     "status": "completed"
    },
    "tags": []
   },
   "outputs": [],
   "source": [
    "# Lines below will give you a hint or solution code\n",
    "#step_2.hint()\n",
    "#step_2.solution()"
   ]
  },
  {
   "cell_type": "markdown",
   "id": "57774a0b",
   "metadata": {
    "papermill": {
     "duration": 0.008484,
     "end_time": "2023-07-25T03:22:16.529446",
     "exception": false,
     "start_time": "2023-07-25T03:22:16.520962",
     "status": "completed"
    },
    "tags": []
   },
   "source": [
    "# Step 3: Break the model\n",
    "\n",
    "In this step, you will create a model that performs worse than the original model in Step 1.  This will help you to develop your intuition for how to set parameters.  You might even find that you accidentally get better performance, which is ultimately a nice problem to have and a valuable learning experience!\n",
    "- Begin by setting `my_model_3` to an XGBoost model, using the [XGBRegressor](https://xgboost.readthedocs.io/en/latest/python/python_api.html#xgboost.XGBRegressor) class.  Use what you learned in the previous tutorial to figure out how to change the default parameters (like `n_estimators` and `learning_rate`) to design a model to get high MAE.\n",
    "- Then, fit the model to the training data in `X_train` and `y_train`.\n",
    "- Set `predictions_3` to the model's predictions for the validation data.  Recall that the validation features are stored in `X_valid`.\n",
    "- Finally, use the `mean_absolute_error()` function to calculate the mean absolute error (MAE) corresponding to the predictions on the validation set.  Recall that the labels for the validation data are stored in `y_valid`.\n",
    "\n",
    "In order for this step to be marked correct, your model in `my_model_3` must attain higher MAE than the model in `my_model_1`. "
   ]
  },
  {
   "cell_type": "code",
   "execution_count": 12,
   "id": "786d1bc8",
   "metadata": {
    "execution": {
     "iopub.execute_input": "2023-07-25T03:22:16.549536Z",
     "iopub.status.busy": "2023-07-25T03:22:16.548877Z",
     "iopub.status.idle": "2023-07-25T03:22:16.830049Z",
     "shell.execute_reply": "2023-07-25T03:22:16.828782Z"
    },
    "papermill": {
     "duration": 0.296529,
     "end_time": "2023-07-25T03:22:16.834685",
     "exception": false,
     "start_time": "2023-07-25T03:22:16.538156",
     "status": "completed"
    },
    "tags": []
   },
   "outputs": [
    {
     "name": "stdout",
     "output_type": "stream",
     "text": [
      "Mean Absolute Error: 27224.929794520547\n"
     ]
    },
    {
     "data": {
      "application/javascript": [
       "parent.postMessage({\"jupyterEvent\": \"custom.exercise_interaction\", \"data\": {\"outcomeType\": 1, \"valueTowardsCompletion\": 0.5, \"interactionType\": 1, \"questionType\": 2, \"questionId\": \"3_Model3\", \"learnToolsVersion\": \"0.3.4\", \"failureMessage\": \"\", \"exceptionClass\": \"\", \"trace\": \"\"}}, \"*\")"
      ],
      "text/plain": [
       "<IPython.core.display.Javascript object>"
      ]
     },
     "metadata": {},
     "output_type": "display_data"
    },
    {
     "data": {
      "text/markdown": [
       "<span style=\"color:#33cc33\">Correct</span>"
      ],
      "text/plain": [
       "Correct"
      ]
     },
     "metadata": {},
     "output_type": "display_data"
    }
   ],
   "source": [
    "# Define the model\n",
    "my_model_3 = XGBRegressor(random_state = 0, learning_rate = 1, n_estimators = 20)\n",
    "\n",
    "# Fit the model\n",
    "my_model_3.fit(X_train, y_train) # Your code here\n",
    "\n",
    "# Get predictions\n",
    "predictions_3 = my_model_3.predict(X_valid)\n",
    "\n",
    "# Calculate MAE\n",
    "mae_3 = mean_absolute_error(y_valid, predictions_3)\n",
    "\n",
    "# Uncomment to print MAE\n",
    "print(\"Mean Absolute Error:\" , mae_3)\n",
    "\n",
    "# Check your answer\n",
    "step_3.check()"
   ]
  },
  {
   "cell_type": "code",
   "execution_count": 13,
   "id": "062550b5",
   "metadata": {
    "execution": {
     "iopub.execute_input": "2023-07-25T03:22:16.857036Z",
     "iopub.status.busy": "2023-07-25T03:22:16.856419Z",
     "iopub.status.idle": "2023-07-25T03:22:16.861259Z",
     "shell.execute_reply": "2023-07-25T03:22:16.860204Z"
    },
    "papermill": {
     "duration": 0.017736,
     "end_time": "2023-07-25T03:22:16.863561",
     "exception": false,
     "start_time": "2023-07-25T03:22:16.845825",
     "status": "completed"
    },
    "tags": []
   },
   "outputs": [],
   "source": [
    "# Lines below will give you a hint or solution code\n",
    "#step_3.hint()\n",
    "#step_3.solution()"
   ]
  },
  {
   "cell_type": "markdown",
   "id": "e4e35390",
   "metadata": {
    "papermill": {
     "duration": 0.009138,
     "end_time": "2023-07-25T03:22:16.882134",
     "exception": false,
     "start_time": "2023-07-25T03:22:16.872996",
     "status": "completed"
    },
    "tags": []
   },
   "source": [
    "# Keep going\n",
    "\n",
    "Continue to learn about **[data leakage](https://www.kaggle.com/alexisbcook/data-leakage)**.  This is an important issue for a data scientist to understand, and it has the potential to ruin your models in subtle and dangerous ways!"
   ]
  },
  {
   "cell_type": "markdown",
   "id": "f59c92c8",
   "metadata": {
    "papermill": {
     "duration": 0.008884,
     "end_time": "2023-07-25T03:22:16.900645",
     "exception": false,
     "start_time": "2023-07-25T03:22:16.891761",
     "status": "completed"
    },
    "tags": []
   },
   "source": [
    "---\n",
    "\n",
    "\n",
    "\n",
    "\n",
    "*Have questions or comments? Visit the [course discussion forum](https://www.kaggle.com/learn/intermediate-machine-learning/discussion) to chat with other learners.*"
   ]
  }
 ],
 "metadata": {
  "kernelspec": {
   "display_name": "Python 3",
   "language": "python",
   "name": "python3"
  },
  "language_info": {
   "codemirror_mode": {
    "name": "ipython",
    "version": 3
   },
   "file_extension": ".py",
   "mimetype": "text/x-python",
   "name": "python",
   "nbconvert_exporter": "python",
   "pygments_lexer": "ipython3",
   "version": "3.10.12"
  },
  "papermill": {
   "default_parameters": {},
   "duration": 20.201205,
   "end_time": "2023-07-25T03:22:17.832949",
   "environment_variables": {},
   "exception": null,
   "input_path": "__notebook__.ipynb",
   "output_path": "__notebook__.ipynb",
   "parameters": {},
   "start_time": "2023-07-25T03:21:57.631744",
   "version": "2.4.0"
  }
 },
 "nbformat": 4,
 "nbformat_minor": 5
}
