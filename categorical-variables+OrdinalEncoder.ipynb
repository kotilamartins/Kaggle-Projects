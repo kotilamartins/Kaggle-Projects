{
 "cells": [
  {
   "cell_type": "markdown",
   "id": "e13d04c2",
   "metadata": {
    "papermill": {
     "duration": 0.017924,
     "end_time": "2023-07-24T00:25:43.262238",
     "exception": false,
     "start_time": "2023-07-24T00:25:43.244314",
     "status": "completed"
    },
    "tags": []
   },
   "source": [
    "**This notebook is an exercise in the [Intermediate Machine Learning](https://www.kaggle.com/learn/intermediate-machine-learning) course.  You can reference the tutorial at [this link](https://www.kaggle.com/alexisbcook/categorical-variables).**\n",
    "\n",
    "---\n"
   ]
  },
  {
   "cell_type": "markdown",
   "id": "781b1f93",
   "metadata": {
    "papermill": {
     "duration": 0.011874,
     "end_time": "2023-07-24T00:25:43.286474",
     "exception": false,
     "start_time": "2023-07-24T00:25:43.274600",
     "status": "completed"
    },
    "tags": []
   },
   "source": [
    "By encoding **categorical variables**, you'll obtain your best results thus far!\n",
    "\n",
    "# Setup\n",
    "\n",
    "The questions below will give you feedback on your work. Run the following cell to set up the feedback system."
   ]
  },
  {
   "cell_type": "code",
   "execution_count": 1,
   "id": "2f9b0f59",
   "metadata": {
    "execution": {
     "iopub.execute_input": "2023-07-24T00:25:43.315048Z",
     "iopub.status.busy": "2023-07-24T00:25:43.314008Z",
     "iopub.status.idle": "2023-07-24T00:25:43.371349Z",
     "shell.execute_reply": "2023-07-24T00:25:43.370284Z"
    },
    "papermill": {
     "duration": 0.074859,
     "end_time": "2023-07-24T00:25:43.373993",
     "exception": false,
     "start_time": "2023-07-24T00:25:43.299134",
     "status": "completed"
    },
    "tags": []
   },
   "outputs": [
    {
     "name": "stdout",
     "output_type": "stream",
     "text": [
      "Setup Complete\n"
     ]
    }
   ],
   "source": [
    "# Set up code checking\n",
    "import os\n",
    "if not os.path.exists(\"../input/train.csv\"):\n",
    "    os.symlink(\"../input/home-data-for-ml-course/train.csv\", \"../input/train.csv\")  \n",
    "    os.symlink(\"../input/home-data-for-ml-course/test.csv\", \"../input/test.csv\") \n",
    "from learntools.core import binder\n",
    "binder.bind(globals())\n",
    "from learntools.ml_intermediate.ex3 import *\n",
    "print(\"Setup Complete\")"
   ]
  },
  {
   "cell_type": "markdown",
   "id": "3d53ac1b",
   "metadata": {
    "papermill": {
     "duration": 0.012762,
     "end_time": "2023-07-24T00:25:43.399213",
     "exception": false,
     "start_time": "2023-07-24T00:25:43.386451",
     "status": "completed"
    },
    "tags": []
   },
   "source": [
    "In this exercise, you will work with data from the [Housing Prices Competition for Kaggle Learn Users](https://www.kaggle.com/c/home-data-for-ml-course). \n",
    "\n",
    "![Ames Housing dataset image](https://storage.googleapis.com/kaggle-media/learn/images/lTJVG4e.png)\n",
    "\n",
    "Run the next code cell without changes to load the training and validation sets in `X_train`, `X_valid`, `y_train`, and `y_valid`.  The test set is loaded in `X_test`."
   ]
  },
  {
   "cell_type": "code",
   "execution_count": 2,
   "id": "2f16ec7b",
   "metadata": {
    "execution": {
     "iopub.execute_input": "2023-07-24T00:25:43.426462Z",
     "iopub.status.busy": "2023-07-24T00:25:43.425617Z",
     "iopub.status.idle": "2023-07-24T00:25:45.000810Z",
     "shell.execute_reply": "2023-07-24T00:25:44.999435Z"
    },
    "papermill": {
     "duration": 1.591728,
     "end_time": "2023-07-24T00:25:45.003463",
     "exception": false,
     "start_time": "2023-07-24T00:25:43.411735",
     "status": "completed"
    },
    "tags": []
   },
   "outputs": [
    {
     "name": "stderr",
     "output_type": "stream",
     "text": [
      "/opt/conda/lib/python3.10/site-packages/scipy/__init__.py:146: UserWarning: A NumPy version >=1.16.5 and <1.23.0 is required for this version of SciPy (detected version 1.23.5\n",
      "  warnings.warn(f\"A NumPy version >={np_minversion} and <{np_maxversion}\"\n"
     ]
    }
   ],
   "source": [
    "import pandas as pd\n",
    "from sklearn.model_selection import train_test_split\n",
    "\n",
    "# Read the data\n",
    "X = pd.read_csv('../input/train.csv', index_col='Id') \n",
    "X_test = pd.read_csv('../input/test.csv', index_col='Id')\n",
    "\n",
    "# Remove rows with missing target, separate target from predictors\n",
    "X.dropna(axis=0, subset=['SalePrice'], inplace=True)\n",
    "y = X.SalePrice\n",
    "X.drop(['SalePrice'], axis=1, inplace=True)\n",
    "\n",
    "# To keep things simple, we'll drop columns with missing values\n",
    "cols_with_missing = [col for col in X.columns if X[col].isnull().any()] \n",
    "X.drop(cols_with_missing, axis=1, inplace=True)\n",
    "X_test.drop(cols_with_missing, axis=1, inplace=True)\n",
    "\n",
    "# Break off validation set from training data\n",
    "X_train, X_valid, y_train, y_valid = train_test_split(X, y,\n",
    "                                                      train_size=0.8, test_size=0.2,\n",
    "                                                      random_state=0)"
   ]
  },
  {
   "cell_type": "markdown",
   "id": "9157c69f",
   "metadata": {
    "papermill": {
     "duration": 0.013141,
     "end_time": "2023-07-24T00:25:45.030371",
     "exception": false,
     "start_time": "2023-07-24T00:25:45.017230",
     "status": "completed"
    },
    "tags": []
   },
   "source": [
    "Use the next code cell to print the first five rows of the data."
   ]
  },
  {
   "cell_type": "code",
   "execution_count": 3,
   "id": "755c39cd",
   "metadata": {
    "execution": {
     "iopub.execute_input": "2023-07-24T00:25:45.061075Z",
     "iopub.status.busy": "2023-07-24T00:25:45.060163Z",
     "iopub.status.idle": "2023-07-24T00:25:45.090661Z",
     "shell.execute_reply": "2023-07-24T00:25:45.089440Z"
    },
    "papermill": {
     "duration": 0.047748,
     "end_time": "2023-07-24T00:25:45.093794",
     "exception": false,
     "start_time": "2023-07-24T00:25:45.046046",
     "status": "completed"
    },
    "tags": []
   },
   "outputs": [
    {
     "data": {
      "text/html": [
       "<div>\n",
       "<style scoped>\n",
       "    .dataframe tbody tr th:only-of-type {\n",
       "        vertical-align: middle;\n",
       "    }\n",
       "\n",
       "    .dataframe tbody tr th {\n",
       "        vertical-align: top;\n",
       "    }\n",
       "\n",
       "    .dataframe thead th {\n",
       "        text-align: right;\n",
       "    }\n",
       "</style>\n",
       "<table border=\"1\" class=\"dataframe\">\n",
       "  <thead>\n",
       "    <tr style=\"text-align: right;\">\n",
       "      <th></th>\n",
       "      <th>MSSubClass</th>\n",
       "      <th>MSZoning</th>\n",
       "      <th>LotArea</th>\n",
       "      <th>Street</th>\n",
       "      <th>LotShape</th>\n",
       "      <th>LandContour</th>\n",
       "      <th>Utilities</th>\n",
       "      <th>LotConfig</th>\n",
       "      <th>LandSlope</th>\n",
       "      <th>Neighborhood</th>\n",
       "      <th>...</th>\n",
       "      <th>OpenPorchSF</th>\n",
       "      <th>EnclosedPorch</th>\n",
       "      <th>3SsnPorch</th>\n",
       "      <th>ScreenPorch</th>\n",
       "      <th>PoolArea</th>\n",
       "      <th>MiscVal</th>\n",
       "      <th>MoSold</th>\n",
       "      <th>YrSold</th>\n",
       "      <th>SaleType</th>\n",
       "      <th>SaleCondition</th>\n",
       "    </tr>\n",
       "    <tr>\n",
       "      <th>Id</th>\n",
       "      <th></th>\n",
       "      <th></th>\n",
       "      <th></th>\n",
       "      <th></th>\n",
       "      <th></th>\n",
       "      <th></th>\n",
       "      <th></th>\n",
       "      <th></th>\n",
       "      <th></th>\n",
       "      <th></th>\n",
       "      <th></th>\n",
       "      <th></th>\n",
       "      <th></th>\n",
       "      <th></th>\n",
       "      <th></th>\n",
       "      <th></th>\n",
       "      <th></th>\n",
       "      <th></th>\n",
       "      <th></th>\n",
       "      <th></th>\n",
       "      <th></th>\n",
       "    </tr>\n",
       "  </thead>\n",
       "  <tbody>\n",
       "    <tr>\n",
       "      <th>619</th>\n",
       "      <td>20</td>\n",
       "      <td>RL</td>\n",
       "      <td>11694</td>\n",
       "      <td>Pave</td>\n",
       "      <td>Reg</td>\n",
       "      <td>Lvl</td>\n",
       "      <td>AllPub</td>\n",
       "      <td>Inside</td>\n",
       "      <td>Gtl</td>\n",
       "      <td>NridgHt</td>\n",
       "      <td>...</td>\n",
       "      <td>108</td>\n",
       "      <td>0</td>\n",
       "      <td>0</td>\n",
       "      <td>260</td>\n",
       "      <td>0</td>\n",
       "      <td>0</td>\n",
       "      <td>7</td>\n",
       "      <td>2007</td>\n",
       "      <td>New</td>\n",
       "      <td>Partial</td>\n",
       "    </tr>\n",
       "    <tr>\n",
       "      <th>871</th>\n",
       "      <td>20</td>\n",
       "      <td>RL</td>\n",
       "      <td>6600</td>\n",
       "      <td>Pave</td>\n",
       "      <td>Reg</td>\n",
       "      <td>Lvl</td>\n",
       "      <td>AllPub</td>\n",
       "      <td>Inside</td>\n",
       "      <td>Gtl</td>\n",
       "      <td>NAmes</td>\n",
       "      <td>...</td>\n",
       "      <td>0</td>\n",
       "      <td>0</td>\n",
       "      <td>0</td>\n",
       "      <td>0</td>\n",
       "      <td>0</td>\n",
       "      <td>0</td>\n",
       "      <td>8</td>\n",
       "      <td>2009</td>\n",
       "      <td>WD</td>\n",
       "      <td>Normal</td>\n",
       "    </tr>\n",
       "    <tr>\n",
       "      <th>93</th>\n",
       "      <td>30</td>\n",
       "      <td>RL</td>\n",
       "      <td>13360</td>\n",
       "      <td>Pave</td>\n",
       "      <td>IR1</td>\n",
       "      <td>HLS</td>\n",
       "      <td>AllPub</td>\n",
       "      <td>Inside</td>\n",
       "      <td>Gtl</td>\n",
       "      <td>Crawfor</td>\n",
       "      <td>...</td>\n",
       "      <td>0</td>\n",
       "      <td>44</td>\n",
       "      <td>0</td>\n",
       "      <td>0</td>\n",
       "      <td>0</td>\n",
       "      <td>0</td>\n",
       "      <td>8</td>\n",
       "      <td>2009</td>\n",
       "      <td>WD</td>\n",
       "      <td>Normal</td>\n",
       "    </tr>\n",
       "    <tr>\n",
       "      <th>818</th>\n",
       "      <td>20</td>\n",
       "      <td>RL</td>\n",
       "      <td>13265</td>\n",
       "      <td>Pave</td>\n",
       "      <td>IR1</td>\n",
       "      <td>Lvl</td>\n",
       "      <td>AllPub</td>\n",
       "      <td>CulDSac</td>\n",
       "      <td>Gtl</td>\n",
       "      <td>Mitchel</td>\n",
       "      <td>...</td>\n",
       "      <td>59</td>\n",
       "      <td>0</td>\n",
       "      <td>0</td>\n",
       "      <td>0</td>\n",
       "      <td>0</td>\n",
       "      <td>0</td>\n",
       "      <td>7</td>\n",
       "      <td>2008</td>\n",
       "      <td>WD</td>\n",
       "      <td>Normal</td>\n",
       "    </tr>\n",
       "    <tr>\n",
       "      <th>303</th>\n",
       "      <td>20</td>\n",
       "      <td>RL</td>\n",
       "      <td>13704</td>\n",
       "      <td>Pave</td>\n",
       "      <td>IR1</td>\n",
       "      <td>Lvl</td>\n",
       "      <td>AllPub</td>\n",
       "      <td>Corner</td>\n",
       "      <td>Gtl</td>\n",
       "      <td>CollgCr</td>\n",
       "      <td>...</td>\n",
       "      <td>81</td>\n",
       "      <td>0</td>\n",
       "      <td>0</td>\n",
       "      <td>0</td>\n",
       "      <td>0</td>\n",
       "      <td>0</td>\n",
       "      <td>1</td>\n",
       "      <td>2006</td>\n",
       "      <td>WD</td>\n",
       "      <td>Normal</td>\n",
       "    </tr>\n",
       "  </tbody>\n",
       "</table>\n",
       "<p>5 rows × 60 columns</p>\n",
       "</div>"
      ],
      "text/plain": [
       "     MSSubClass MSZoning  LotArea Street LotShape LandContour Utilities  \\\n",
       "Id                                                                        \n",
       "619          20       RL    11694   Pave      Reg         Lvl    AllPub   \n",
       "871          20       RL     6600   Pave      Reg         Lvl    AllPub   \n",
       "93           30       RL    13360   Pave      IR1         HLS    AllPub   \n",
       "818          20       RL    13265   Pave      IR1         Lvl    AllPub   \n",
       "303          20       RL    13704   Pave      IR1         Lvl    AllPub   \n",
       "\n",
       "    LotConfig LandSlope Neighborhood  ... OpenPorchSF EnclosedPorch 3SsnPorch  \\\n",
       "Id                                    ...                                       \n",
       "619    Inside       Gtl      NridgHt  ...         108             0         0   \n",
       "871    Inside       Gtl        NAmes  ...           0             0         0   \n",
       "93     Inside       Gtl      Crawfor  ...           0            44         0   \n",
       "818   CulDSac       Gtl      Mitchel  ...          59             0         0   \n",
       "303    Corner       Gtl      CollgCr  ...          81             0         0   \n",
       "\n",
       "    ScreenPorch  PoolArea  MiscVal  MoSold  YrSold SaleType SaleCondition  \n",
       "Id                                                                         \n",
       "619         260         0        0       7    2007      New       Partial  \n",
       "871           0         0        0       8    2009       WD        Normal  \n",
       "93            0         0        0       8    2009       WD        Normal  \n",
       "818           0         0        0       7    2008       WD        Normal  \n",
       "303           0         0        0       1    2006       WD        Normal  \n",
       "\n",
       "[5 rows x 60 columns]"
      ]
     },
     "execution_count": 3,
     "metadata": {},
     "output_type": "execute_result"
    }
   ],
   "source": [
    "X_train.head()"
   ]
  },
  {
   "cell_type": "markdown",
   "id": "fc1c0fae",
   "metadata": {
    "papermill": {
     "duration": 0.012607,
     "end_time": "2023-07-24T00:25:45.119598",
     "exception": false,
     "start_time": "2023-07-24T00:25:45.106991",
     "status": "completed"
    },
    "tags": []
   },
   "source": [
    "Notice that the dataset contains both numerical and categorical variables.  You'll need to encode the categorical data before training a model.\n",
    "\n",
    "To compare different models, you'll use the same `score_dataset()` function from the tutorial.  This function reports the [mean absolute error](https://en.wikipedia.org/wiki/Mean_absolute_error) (MAE) from a random forest model."
   ]
  },
  {
   "cell_type": "code",
   "execution_count": 4,
   "id": "a98135ff",
   "metadata": {
    "execution": {
     "iopub.execute_input": "2023-07-24T00:25:45.147582Z",
     "iopub.status.busy": "2023-07-24T00:25:45.147174Z",
     "iopub.status.idle": "2023-07-24T00:25:45.581155Z",
     "shell.execute_reply": "2023-07-24T00:25:45.579850Z"
    },
    "papermill": {
     "duration": 0.451534,
     "end_time": "2023-07-24T00:25:45.584074",
     "exception": false,
     "start_time": "2023-07-24T00:25:45.132540",
     "status": "completed"
    },
    "tags": []
   },
   "outputs": [],
   "source": [
    "from sklearn.ensemble import RandomForestRegressor\n",
    "from sklearn.metrics import mean_absolute_error\n",
    "\n",
    "# function for comparing different approaches\n",
    "def score_dataset(X_train, X_valid, y_train, y_valid):\n",
    "    model = RandomForestRegressor(n_estimators=100, random_state=0)\n",
    "    model.fit(X_train, y_train)\n",
    "    preds = model.predict(X_valid)\n",
    "    return mean_absolute_error(y_valid, preds)"
   ]
  },
  {
   "cell_type": "markdown",
   "id": "c3c8b6cb",
   "metadata": {
    "papermill": {
     "duration": 0.01367,
     "end_time": "2023-07-24T00:25:45.611655",
     "exception": false,
     "start_time": "2023-07-24T00:25:45.597985",
     "status": "completed"
    },
    "tags": []
   },
   "source": [
    "# Step 1: Drop columns with categorical data\n",
    "\n",
    "You'll get started with the most straightforward approach.  Use the code cell below to preprocess the data in `X_train` and `X_valid` to remove columns with categorical data.  Set the preprocessed DataFrames to `drop_X_train` and `drop_X_valid`, respectively.  "
   ]
  },
  {
   "cell_type": "code",
   "execution_count": 5,
   "id": "afcdcbee",
   "metadata": {
    "execution": {
     "iopub.execute_input": "2023-07-24T00:25:45.642077Z",
     "iopub.status.busy": "2023-07-24T00:25:45.641672Z",
     "iopub.status.idle": "2023-07-24T00:25:45.654833Z",
     "shell.execute_reply": "2023-07-24T00:25:45.653486Z"
    },
    "papermill": {
     "duration": 0.031881,
     "end_time": "2023-07-24T00:25:45.657635",
     "exception": false,
     "start_time": "2023-07-24T00:25:45.625754",
     "status": "completed"
    },
    "tags": []
   },
   "outputs": [
    {
     "data": {
      "application/javascript": [
       "parent.postMessage({\"jupyterEvent\": \"custom.exercise_interaction\", \"data\": {\"outcomeType\": 1, \"valueTowardsCompletion\": 0.5, \"interactionType\": 1, \"questionType\": 2, \"questionId\": \"1_Drop\", \"learnToolsVersion\": \"0.3.4\", \"failureMessage\": \"\", \"exceptionClass\": \"\", \"trace\": \"\"}}, \"*\")"
      ],
      "text/plain": [
       "<IPython.core.display.Javascript object>"
      ]
     },
     "metadata": {},
     "output_type": "display_data"
    },
    {
     "data": {
      "text/markdown": [
       "<span style=\"color:#33cc33\">Correct</span>"
      ],
      "text/plain": [
       "Correct"
      ]
     },
     "metadata": {},
     "output_type": "display_data"
    }
   ],
   "source": [
    "# Fill in the lines below: drop columns in training and validation data\n",
    "drop_X_train = X_train.select_dtypes(exclude = ['object'])\n",
    "drop_X_valid = X_valid.select_dtypes(exclude = ['object'])\n",
    "\n",
    "# Check your answers\n",
    "step_1.check()"
   ]
  },
  {
   "cell_type": "code",
   "execution_count": 6,
   "id": "cff1af1b",
   "metadata": {
    "execution": {
     "iopub.execute_input": "2023-07-24T00:25:45.686674Z",
     "iopub.status.busy": "2023-07-24T00:25:45.686294Z",
     "iopub.status.idle": "2023-07-24T00:25:45.690870Z",
     "shell.execute_reply": "2023-07-24T00:25:45.689633Z"
    },
    "papermill": {
     "duration": 0.021977,
     "end_time": "2023-07-24T00:25:45.693474",
     "exception": false,
     "start_time": "2023-07-24T00:25:45.671497",
     "status": "completed"
    },
    "tags": []
   },
   "outputs": [],
   "source": [
    "# Lines below will give you a hint or solution code\n",
    "#step_1.hint()\n",
    "#step_1.solution()"
   ]
  },
  {
   "cell_type": "markdown",
   "id": "66ff9b4f",
   "metadata": {
    "papermill": {
     "duration": 0.013125,
     "end_time": "2023-07-24T00:25:45.721267",
     "exception": false,
     "start_time": "2023-07-24T00:25:45.708142",
     "status": "completed"
    },
    "tags": []
   },
   "source": [
    "Run the next code cell to get the MAE for this approach."
   ]
  },
  {
   "cell_type": "code",
   "execution_count": 7,
   "id": "dbd78513",
   "metadata": {
    "execution": {
     "iopub.execute_input": "2023-07-24T00:25:45.750171Z",
     "iopub.status.busy": "2023-07-24T00:25:45.749791Z",
     "iopub.status.idle": "2023-07-24T00:25:47.107415Z",
     "shell.execute_reply": "2023-07-24T00:25:47.106025Z"
    },
    "papermill": {
     "duration": 1.3762,
     "end_time": "2023-07-24T00:25:47.111258",
     "exception": false,
     "start_time": "2023-07-24T00:25:45.735058",
     "status": "completed"
    },
    "tags": []
   },
   "outputs": [
    {
     "name": "stdout",
     "output_type": "stream",
     "text": [
      "MAE from Approach 1 (Drop categorical variables):\n",
      "17837.82570776256\n"
     ]
    }
   ],
   "source": [
    "print(\"MAE from Approach 1 (Drop categorical variables):\")\n",
    "print(score_dataset(drop_X_train, drop_X_valid, y_train, y_valid))"
   ]
  },
  {
   "cell_type": "markdown",
   "id": "d276906a",
   "metadata": {
    "papermill": {
     "duration": 0.013171,
     "end_time": "2023-07-24T00:25:47.138844",
     "exception": false,
     "start_time": "2023-07-24T00:25:47.125673",
     "status": "completed"
    },
    "tags": []
   },
   "source": [
    "Before jumping into ordinal encoding, we'll investigate the dataset.  Specifically, we'll look at the `'Condition2'` column.  The code cell below prints the unique entries in both the training and validation sets."
   ]
  },
  {
   "cell_type": "code",
   "execution_count": 8,
   "id": "e0ffd942",
   "metadata": {
    "execution": {
     "iopub.execute_input": "2023-07-24T00:25:47.168636Z",
     "iopub.status.busy": "2023-07-24T00:25:47.168228Z",
     "iopub.status.idle": "2023-07-24T00:25:47.176036Z",
     "shell.execute_reply": "2023-07-24T00:25:47.175110Z"
    },
    "papermill": {
     "duration": 0.025493,
     "end_time": "2023-07-24T00:25:47.178875",
     "exception": false,
     "start_time": "2023-07-24T00:25:47.153382",
     "status": "completed"
    },
    "tags": []
   },
   "outputs": [
    {
     "name": "stdout",
     "output_type": "stream",
     "text": [
      "Unique values in 'Condition2' column in training data: ['Norm' 'PosA' 'Feedr' 'PosN' 'Artery' 'RRAe']\n",
      "\n",
      "Unique values in 'Condition2' column in validation data: ['Norm' 'RRAn' 'RRNn' 'Artery' 'Feedr' 'PosN']\n"
     ]
    }
   ],
   "source": [
    "print(\"Unique values in 'Condition2' column in training data:\", X_train['Condition2'].unique())\n",
    "print(\"\\nUnique values in 'Condition2' column in validation data:\", X_valid['Condition2'].unique())"
   ]
  },
  {
   "cell_type": "markdown",
   "id": "6a7cd21b",
   "metadata": {
    "papermill": {
     "duration": 0.01369,
     "end_time": "2023-07-24T00:25:47.206448",
     "exception": false,
     "start_time": "2023-07-24T00:25:47.192758",
     "status": "completed"
    },
    "tags": []
   },
   "source": [
    "# Step 2: Ordinal encoding\n",
    "\n",
    "### Part A\n",
    "\n",
    "If you now write code to: \n",
    "- fit an ordinal encoder to the training data, and then \n",
    "- use it to transform both the training and validation data, \n",
    "\n",
    "you'll get an error.  Can you see why this is the case?  (_You'll need  to use the above output to answer this question._)"
   ]
  },
  {
   "cell_type": "code",
   "execution_count": 9,
   "id": "b1b1b367",
   "metadata": {
    "execution": {
     "iopub.execute_input": "2023-07-24T00:25:47.236751Z",
     "iopub.status.busy": "2023-07-24T00:25:47.236381Z",
     "iopub.status.idle": "2023-07-24T00:25:47.244641Z",
     "shell.execute_reply": "2023-07-24T00:25:47.243860Z"
    },
    "papermill": {
     "duration": 0.026052,
     "end_time": "2023-07-24T00:25:47.246791",
     "exception": false,
     "start_time": "2023-07-24T00:25:47.220739",
     "status": "completed"
    },
    "tags": []
   },
   "outputs": [
    {
     "data": {
      "application/javascript": [
       "parent.postMessage({\"jupyterEvent\": \"custom.exercise_interaction\", \"data\": {\"outcomeType\": 1, \"valueTowardsCompletion\": 0.5, \"interactionType\": 1, \"questionType\": 4, \"questionId\": \"2.1_LabelA\", \"learnToolsVersion\": \"0.3.4\", \"failureMessage\": \"\", \"exceptionClass\": \"\", \"trace\": \"\"}}, \"*\")"
      ],
      "text/plain": [
       "<IPython.core.display.Javascript object>"
      ]
     },
     "metadata": {},
     "output_type": "display_data"
    },
    {
     "data": {
      "text/markdown": [
       "<span style=\"color:#33cc33\">Correct:</span> \n",
       "\n",
       "Fitting an ordinal encoder to a column in the training data creates a corresponding integer-valued label for each unique value **that appears in the training data**. In the case that the validation data contains values that don't also appear in the training data, the encoder will throw an error, because these values won't have an integer assigned to them.  Notice that the `'Condition2'` column in the validation data contains the values `'RRAn'` and `'RRNn'`, but these don't appear in the training data -- thus, if we try to use an ordinal encoder with scikit-learn, the code will throw an error."
      ],
      "text/plain": [
       "Correct: \n",
       "\n",
       "Fitting an ordinal encoder to a column in the training data creates a corresponding integer-valued label for each unique value **that appears in the training data**. In the case that the validation data contains values that don't also appear in the training data, the encoder will throw an error, because these values won't have an integer assigned to them.  Notice that the `'Condition2'` column in the validation data contains the values `'RRAn'` and `'RRNn'`, but these don't appear in the training data -- thus, if we try to use an ordinal encoder with scikit-learn, the code will throw an error."
      ]
     },
     "metadata": {},
     "output_type": "display_data"
    }
   ],
   "source": [
    "# Check your answer (Run this code cell to receive credit!)\n",
    "step_2.a.check()"
   ]
  },
  {
   "cell_type": "code",
   "execution_count": 10,
   "id": "1311501b",
   "metadata": {
    "execution": {
     "iopub.execute_input": "2023-07-24T00:25:47.278238Z",
     "iopub.status.busy": "2023-07-24T00:25:47.277793Z",
     "iopub.status.idle": "2023-07-24T00:25:47.283082Z",
     "shell.execute_reply": "2023-07-24T00:25:47.281796Z"
    },
    "papermill": {
     "duration": 0.024561,
     "end_time": "2023-07-24T00:25:47.285782",
     "exception": false,
     "start_time": "2023-07-24T00:25:47.261221",
     "status": "completed"
    },
    "tags": []
   },
   "outputs": [],
   "source": [
    "#step_2.a.hint()"
   ]
  },
  {
   "cell_type": "markdown",
   "id": "4a0808bb",
   "metadata": {
    "papermill": {
     "duration": 0.01574,
     "end_time": "2023-07-24T00:25:47.316276",
     "exception": false,
     "start_time": "2023-07-24T00:25:47.300536",
     "status": "completed"
    },
    "tags": []
   },
   "source": [
    "This is a common problem that you'll encounter with real-world data, and there are many approaches to fixing this issue.  For instance, you can write a custom ordinal encoder to deal with new categories.  The simplest approach, however, is to drop the problematic categorical columns.  \n",
    "\n",
    "Run the code cell below to save the problematic columns to a Python list `bad_label_cols`.  Likewise, columns that can be safely ordinal encoded are stored in `good_label_cols`."
   ]
  },
  {
   "cell_type": "code",
   "execution_count": 11,
   "id": "f6d8fda0",
   "metadata": {
    "execution": {
     "iopub.execute_input": "2023-07-24T00:25:47.350305Z",
     "iopub.status.busy": "2023-07-24T00:25:47.348392Z",
     "iopub.status.idle": "2023-07-24T00:25:47.367655Z",
     "shell.execute_reply": "2023-07-24T00:25:47.365546Z"
    },
    "papermill": {
     "duration": 0.03837,
     "end_time": "2023-07-24T00:25:47.370862",
     "exception": false,
     "start_time": "2023-07-24T00:25:47.332492",
     "status": "completed"
    },
    "tags": []
   },
   "outputs": [
    {
     "name": "stdout",
     "output_type": "stream",
     "text": [
      "Categorical columns that will be ordinal encoded: ['MSZoning', 'Street', 'LotShape', 'LandContour', 'Utilities', 'LotConfig', 'LandSlope', 'Neighborhood', 'Condition1', 'BldgType', 'HouseStyle', 'RoofStyle', 'Exterior1st', 'Exterior2nd', 'ExterQual', 'ExterCond', 'Foundation', 'Heating', 'HeatingQC', 'CentralAir', 'KitchenQual', 'PavedDrive', 'SaleType', 'SaleCondition']\n",
      "\n",
      "Categorical columns that will be dropped from the dataset: ['Functional', 'RoofMatl', 'Condition2']\n"
     ]
    }
   ],
   "source": [
    "# Categorical columns in the training data\n",
    "object_cols = [col for col in X_train.columns if X_train[col].dtype == \"object\"]\n",
    "\n",
    "# Columns that can be safely ordinal encoded\n",
    "good_label_cols = [col for col in object_cols if \n",
    "                   set(X_valid[col]).issubset(set(X_train[col]))]\n",
    "        \n",
    "# Problematic columns that will be dropped from the dataset\n",
    "bad_label_cols = list(set(object_cols)-set(good_label_cols))\n",
    "        \n",
    "print('Categorical columns that will be ordinal encoded:', good_label_cols)\n",
    "print('\\nCategorical columns that will be dropped from the dataset:', bad_label_cols)"
   ]
  },
  {
   "cell_type": "markdown",
   "id": "a5ecb916",
   "metadata": {
    "papermill": {
     "duration": 0.014762,
     "end_time": "2023-07-24T00:25:47.400433",
     "exception": false,
     "start_time": "2023-07-24T00:25:47.385671",
     "status": "completed"
    },
    "tags": []
   },
   "source": [
    "### Part B\n",
    "\n",
    "Use the next code cell to ordinal encode the data in `X_train` and `X_valid`.  Set the preprocessed DataFrames to `label_X_train` and `label_X_valid`, respectively.  \n",
    "- We have provided code below to drop the categorical columns in `bad_label_cols` from the dataset. \n",
    "- You should ordinal encode the categorical columns in `good_label_cols`.  "
   ]
  },
  {
   "cell_type": "code",
   "execution_count": 12,
   "id": "b99cd7e3",
   "metadata": {
    "execution": {
     "iopub.execute_input": "2023-07-24T00:25:47.432852Z",
     "iopub.status.busy": "2023-07-24T00:25:47.432427Z",
     "iopub.status.idle": "2023-07-24T00:25:47.491786Z",
     "shell.execute_reply": "2023-07-24T00:25:47.490340Z"
    },
    "papermill": {
     "duration": 0.079447,
     "end_time": "2023-07-24T00:25:47.494189",
     "exception": false,
     "start_time": "2023-07-24T00:25:47.414742",
     "status": "completed"
    },
    "tags": []
   },
   "outputs": [
    {
     "name": "stdout",
     "output_type": "stream",
     "text": [
      "(1168, 57)\n",
      "(292, 57)\n"
     ]
    },
    {
     "data": {
      "application/javascript": [
       "parent.postMessage({\"jupyterEvent\": \"custom.exercise_interaction\", \"data\": {\"outcomeType\": 1, \"valueTowardsCompletion\": 0.5, \"interactionType\": 1, \"questionType\": 2, \"questionId\": \"2.2_LabelB\", \"learnToolsVersion\": \"0.3.4\", \"failureMessage\": \"\", \"exceptionClass\": \"\", \"trace\": \"\"}}, \"*\")"
      ],
      "text/plain": [
       "<IPython.core.display.Javascript object>"
      ]
     },
     "metadata": {},
     "output_type": "display_data"
    },
    {
     "data": {
      "text/markdown": [
       "<span style=\"color:#33cc33\">Correct</span>"
      ],
      "text/plain": [
       "Correct"
      ]
     },
     "metadata": {},
     "output_type": "display_data"
    }
   ],
   "source": [
    "from sklearn.preprocessing import OrdinalEncoder\n",
    "\n",
    "# Drop categorical columns that will not be encoded\n",
    "label_X_train = X_train.drop(bad_label_cols, axis=1)\n",
    "label_X_valid = X_valid.drop(bad_label_cols, axis=1)\n",
    "\n",
    "#make a copy\n",
    "copy_X_train = label_X_train.copy()\n",
    "copy_X_valid = label_X_valid.copy()\n",
    "\n",
    "# Apply ordinal encoder \n",
    "ordinal_encoder = OrdinalEncoder() # Your code here\n",
    "label_X_train[good_label_cols] = ordinal_encoder.fit_transform(X_train[good_label_cols])\n",
    "label_X_valid[good_label_cols] = ordinal_encoder.transform(X_valid[good_label_cols])\n",
    "\n",
    "print(label_X_train.shape)\n",
    "print(label_X_valid.shape)\n",
    "    \n",
    "# Check your answer\n",
    "step_2.b.check()"
   ]
  },
  {
   "cell_type": "code",
   "execution_count": 13,
   "id": "1b046c42",
   "metadata": {
    "execution": {
     "iopub.execute_input": "2023-07-24T00:25:47.527814Z",
     "iopub.status.busy": "2023-07-24T00:25:47.527378Z",
     "iopub.status.idle": "2023-07-24T00:25:47.533006Z",
     "shell.execute_reply": "2023-07-24T00:25:47.530997Z"
    },
    "papermill": {
     "duration": 0.027012,
     "end_time": "2023-07-24T00:25:47.536337",
     "exception": false,
     "start_time": "2023-07-24T00:25:47.509325",
     "status": "completed"
    },
    "tags": []
   },
   "outputs": [],
   "source": [
    "# Lines below will give you a hint or solution code\n",
    "#step_2.b.hint()\n",
    "#step_2.b.solution()"
   ]
  },
  {
   "cell_type": "markdown",
   "id": "8658c735",
   "metadata": {
    "papermill": {
     "duration": 0.016545,
     "end_time": "2023-07-24T00:25:47.569113",
     "exception": false,
     "start_time": "2023-07-24T00:25:47.552568",
     "status": "completed"
    },
    "tags": []
   },
   "source": [
    "Run the next code cell to get the MAE for this approach."
   ]
  },
  {
   "cell_type": "code",
   "execution_count": 14,
   "id": "78111c4a",
   "metadata": {
    "execution": {
     "iopub.execute_input": "2023-07-24T00:25:47.602314Z",
     "iopub.status.busy": "2023-07-24T00:25:47.601905Z",
     "iopub.status.idle": "2023-07-24T00:25:49.312647Z",
     "shell.execute_reply": "2023-07-24T00:25:49.311259Z"
    },
    "papermill": {
     "duration": 1.730767,
     "end_time": "2023-07-24T00:25:49.315253",
     "exception": false,
     "start_time": "2023-07-24T00:25:47.584486",
     "status": "completed"
    },
    "tags": []
   },
   "outputs": [
    {
     "name": "stdout",
     "output_type": "stream",
     "text": [
      "MAE from Approach 2 (Ordinal Encoding):\n",
      "17098.01649543379\n"
     ]
    }
   ],
   "source": [
    "print(\"MAE from Approach 2 (Ordinal Encoding):\") \n",
    "print(score_dataset(label_X_train, label_X_valid, y_train, y_valid))"
   ]
  },
  {
   "cell_type": "markdown",
   "id": "986e55e4",
   "metadata": {
    "papermill": {
     "duration": 0.014766,
     "end_time": "2023-07-24T00:25:49.345057",
     "exception": false,
     "start_time": "2023-07-24T00:25:49.330291",
     "status": "completed"
    },
    "tags": []
   },
   "source": [
    "So far, you've tried two different approaches to dealing with categorical variables.  And, you've seen that encoding categorical data yields better results than removing columns from the dataset.\n",
    "\n",
    "Soon, you'll try one-hot encoding.  Before then, there's one additional topic we need to cover.  Begin by running the next code cell without changes.  "
   ]
  },
  {
   "cell_type": "code",
   "execution_count": 15,
   "id": "51256ab5",
   "metadata": {
    "execution": {
     "iopub.execute_input": "2023-07-24T00:25:49.378342Z",
     "iopub.status.busy": "2023-07-24T00:25:49.377920Z",
     "iopub.status.idle": "2023-07-24T00:25:49.393723Z",
     "shell.execute_reply": "2023-07-24T00:25:49.392282Z"
    },
    "papermill": {
     "duration": 0.03562,
     "end_time": "2023-07-24T00:25:49.396672",
     "exception": false,
     "start_time": "2023-07-24T00:25:49.361052",
     "status": "completed"
    },
    "tags": []
   },
   "outputs": [
    {
     "data": {
      "text/plain": [
       "[('Street', 2),\n",
       " ('Utilities', 2),\n",
       " ('CentralAir', 2),\n",
       " ('LandSlope', 3),\n",
       " ('PavedDrive', 3),\n",
       " ('LotShape', 4),\n",
       " ('LandContour', 4),\n",
       " ('ExterQual', 4),\n",
       " ('KitchenQual', 4),\n",
       " ('MSZoning', 5),\n",
       " ('LotConfig', 5),\n",
       " ('BldgType', 5),\n",
       " ('ExterCond', 5),\n",
       " ('HeatingQC', 5),\n",
       " ('Condition2', 6),\n",
       " ('RoofStyle', 6),\n",
       " ('Foundation', 6),\n",
       " ('Heating', 6),\n",
       " ('Functional', 6),\n",
       " ('SaleCondition', 6),\n",
       " ('RoofMatl', 7),\n",
       " ('HouseStyle', 8),\n",
       " ('Condition1', 9),\n",
       " ('SaleType', 9),\n",
       " ('Exterior1st', 15),\n",
       " ('Exterior2nd', 16),\n",
       " ('Neighborhood', 25)]"
      ]
     },
     "execution_count": 15,
     "metadata": {},
     "output_type": "execute_result"
    }
   ],
   "source": [
    "# Get number of unique entries in each column with categorical data\n",
    "object_nunique = list(map(lambda col: X_train[col].nunique(), object_cols))\n",
    "d = dict(zip(object_cols, object_nunique))\n",
    "\n",
    "# Print number of unique entries by column, in ascending order\n",
    "sorted(d.items(), key=lambda x: x[1])"
   ]
  },
  {
   "cell_type": "markdown",
   "id": "812e2420",
   "metadata": {
    "papermill": {
     "duration": 0.015851,
     "end_time": "2023-07-24T00:25:49.427787",
     "exception": false,
     "start_time": "2023-07-24T00:25:49.411936",
     "status": "completed"
    },
    "tags": []
   },
   "source": [
    "# Step 3: Investigating cardinality\n",
    "\n",
    "### Part A\n",
    "\n",
    "The output above shows, for each column with categorical data, the number of unique values in the column.  For instance, the `'Street'` column in the training data has two unique values: `'Grvl'` and `'Pave'`, corresponding to a gravel road and a paved road, respectively.\n",
    "\n",
    "We refer to the number of unique entries of a categorical variable as the **cardinality** of that categorical variable.  For instance, the `'Street'` variable has cardinality 2.\n",
    "\n",
    "Use the output above to answer the questions below."
   ]
  },
  {
   "cell_type": "code",
   "execution_count": 16,
   "id": "2bac3279",
   "metadata": {
    "execution": {
     "iopub.execute_input": "2023-07-24T00:25:49.461462Z",
     "iopub.status.busy": "2023-07-24T00:25:49.461066Z",
     "iopub.status.idle": "2023-07-24T00:25:49.469568Z",
     "shell.execute_reply": "2023-07-24T00:25:49.468779Z"
    },
    "papermill": {
     "duration": 0.027685,
     "end_time": "2023-07-24T00:25:49.471863",
     "exception": false,
     "start_time": "2023-07-24T00:25:49.444178",
     "status": "completed"
    },
    "tags": []
   },
   "outputs": [
    {
     "data": {
      "application/javascript": [
       "parent.postMessage({\"jupyterEvent\": \"custom.exercise_interaction\", \"data\": {\"outcomeType\": 1, \"valueTowardsCompletion\": 0.5, \"interactionType\": 1, \"questionType\": 1, \"questionId\": \"3.1_CardinalityA\", \"learnToolsVersion\": \"0.3.4\", \"failureMessage\": \"\", \"exceptionClass\": \"\", \"trace\": \"\"}}, \"*\")"
      ],
      "text/plain": [
       "<IPython.core.display.Javascript object>"
      ]
     },
     "metadata": {},
     "output_type": "display_data"
    },
    {
     "data": {
      "text/markdown": [
       "<span style=\"color:#33cc33\">Correct</span>"
      ],
      "text/plain": [
       "Correct"
      ]
     },
     "metadata": {},
     "output_type": "display_data"
    }
   ],
   "source": [
    "# Fill in the line below: How many categorical variables in the training data\n",
    "# have cardinality greater than 10?\n",
    "high_cardinality_numcols = 3\n",
    "\n",
    "# Fill in the line below: How many columns are needed to one-hot encode the \n",
    "# 'Neighborhood' variable in the training data?\n",
    "num_cols_neighborhood = 25\n",
    "\n",
    "# Check your answers\n",
    "step_3.a.check()"
   ]
  },
  {
   "cell_type": "code",
   "execution_count": 17,
   "id": "93adfdef",
   "metadata": {
    "execution": {
     "iopub.execute_input": "2023-07-24T00:25:49.505164Z",
     "iopub.status.busy": "2023-07-24T00:25:49.504788Z",
     "iopub.status.idle": "2023-07-24T00:25:49.508651Z",
     "shell.execute_reply": "2023-07-24T00:25:49.507592Z"
    },
    "papermill": {
     "duration": 0.023789,
     "end_time": "2023-07-24T00:25:49.511157",
     "exception": false,
     "start_time": "2023-07-24T00:25:49.487368",
     "status": "completed"
    },
    "tags": []
   },
   "outputs": [],
   "source": [
    "# Lines below will give you a hint or solution code\n",
    "#step_3.a.hint()\n",
    "#step_3.a.solution()"
   ]
  },
  {
   "cell_type": "markdown",
   "id": "c2ed0da6",
   "metadata": {
    "papermill": {
     "duration": 0.015934,
     "end_time": "2023-07-24T00:25:49.543027",
     "exception": false,
     "start_time": "2023-07-24T00:25:49.527093",
     "status": "completed"
    },
    "tags": []
   },
   "source": [
    "### Part B\n",
    "\n",
    "For large datasets with many rows, one-hot encoding can greatly expand the size of the dataset.  For this reason, we typically will only one-hot encode columns with relatively low cardinality.  Then, high cardinality columns can either be dropped from the dataset, or we can use ordinal encoding.\n",
    "\n",
    "As an example, consider a dataset with 10,000 rows, and containing one categorical column with 100 unique entries.  \n",
    "- If this column is replaced with the corresponding one-hot encoding, how many entries are added to the dataset?  \n",
    "- If we instead replace the column with the ordinal encoding, how many entries are added?  \n",
    "\n",
    "Use your answers to fill in the lines below."
   ]
  },
  {
   "cell_type": "code",
   "execution_count": 18,
   "id": "2d6bae90",
   "metadata": {
    "execution": {
     "iopub.execute_input": "2023-07-24T00:25:49.577308Z",
     "iopub.status.busy": "2023-07-24T00:25:49.576848Z",
     "iopub.status.idle": "2023-07-24T00:25:49.587011Z",
     "shell.execute_reply": "2023-07-24T00:25:49.585931Z"
    },
    "papermill": {
     "duration": 0.029744,
     "end_time": "2023-07-24T00:25:49.589190",
     "exception": false,
     "start_time": "2023-07-24T00:25:49.559446",
     "status": "completed"
    },
    "tags": []
   },
   "outputs": [
    {
     "data": {
      "application/javascript": [
       "parent.postMessage({\"jupyterEvent\": \"custom.exercise_interaction\", \"data\": {\"outcomeType\": 1, \"valueTowardsCompletion\": 0.5, \"interactionType\": 1, \"questionType\": 1, \"questionId\": \"3.2_CardinalityB\", \"learnToolsVersion\": \"0.3.4\", \"failureMessage\": \"\", \"exceptionClass\": \"\", \"trace\": \"\"}}, \"*\")"
      ],
      "text/plain": [
       "<IPython.core.display.Javascript object>"
      ]
     },
     "metadata": {},
     "output_type": "display_data"
    },
    {
     "data": {
      "text/markdown": [
       "<span style=\"color:#33cc33\">Correct</span>"
      ],
      "text/plain": [
       "Correct"
      ]
     },
     "metadata": {},
     "output_type": "display_data"
    }
   ],
   "source": [
    "# Fill in the line below: How many entries are added to the dataset by \n",
    "# replacing the column with a one-hot encoding?\n",
    "OH_entries_added = 990000\n",
    "\n",
    "# Fill in the line below: How many entries are added to the dataset by\n",
    "# replacing the column with an ordinal encoding?\n",
    "label_entries_added = 0\n",
    "\n",
    "# Check your answers\n",
    "step_3.b.check()"
   ]
  },
  {
   "cell_type": "code",
   "execution_count": 19,
   "id": "d60314b9",
   "metadata": {
    "execution": {
     "iopub.execute_input": "2023-07-24T00:25:49.625114Z",
     "iopub.status.busy": "2023-07-24T00:25:49.624696Z",
     "iopub.status.idle": "2023-07-24T00:25:49.634671Z",
     "shell.execute_reply": "2023-07-24T00:25:49.633266Z"
    },
    "papermill": {
     "duration": 0.03225,
     "end_time": "2023-07-24T00:25:49.637239",
     "exception": false,
     "start_time": "2023-07-24T00:25:49.604989",
     "status": "completed"
    },
    "tags": []
   },
   "outputs": [
    {
     "data": {
      "application/javascript": [
       "parent.postMessage({\"jupyterEvent\": \"custom.exercise_interaction\", \"data\": {\"interactionType\": 3, \"questionType\": 1, \"questionId\": \"3.2_CardinalityB\", \"learnToolsVersion\": \"0.3.4\", \"valueTowardsCompletion\": 0.0, \"failureMessage\": \"\", \"exceptionClass\": \"\", \"trace\": \"\", \"outcomeType\": 4}}, \"*\")"
      ],
      "text/plain": [
       "<IPython.core.display.Javascript object>"
      ]
     },
     "metadata": {},
     "output_type": "display_data"
    },
    {
     "data": {
      "text/markdown": [
       "<span style=\"color:#33cc99\">Solution:</span> \n",
       "```python\n",
       "# How many entries are added to the dataset by\n",
       "# replacing the column with a one-hot encoding?\n",
       "OH_entries_added = 1e4*100 - 1e4\n",
       "\n",
       "# How many entries are added to the dataset by\n",
       "# replacing the column with an ordinal encoding?\n",
       "label_entries_added = 0\n",
       "\n",
       "```"
      ],
      "text/plain": [
       "Solution: \n",
       "```python\n",
       "# How many entries are added to the dataset by\n",
       "# replacing the column with a one-hot encoding?\n",
       "OH_entries_added = 1e4*100 - 1e4\n",
       "\n",
       "# How many entries are added to the dataset by\n",
       "# replacing the column with an ordinal encoding?\n",
       "label_entries_added = 0\n",
       "\n",
       "```"
      ]
     },
     "metadata": {},
     "output_type": "display_data"
    }
   ],
   "source": [
    "# Lines below will give you a hint or solution code\n",
    "#step_3.b.hint()\n",
    "step_3.b.solution()"
   ]
  },
  {
   "cell_type": "markdown",
   "id": "3afba690",
   "metadata": {
    "papermill": {
     "duration": 0.015861,
     "end_time": "2023-07-24T00:25:49.669296",
     "exception": false,
     "start_time": "2023-07-24T00:25:49.653435",
     "status": "completed"
    },
    "tags": []
   },
   "source": [
    "Next, you'll experiment with one-hot encoding.  But, instead of encoding all of the categorical variables in the dataset, you'll only create a one-hot encoding for columns with cardinality less than 10.\n",
    "\n",
    "Run the code cell below without changes to set `low_cardinality_cols` to a Python list containing the columns that will be one-hot encoded.  Likewise, `high_cardinality_cols` contains a list of categorical columns that will be dropped from the dataset."
   ]
  },
  {
   "cell_type": "code",
   "execution_count": 20,
   "id": "51fc03d5",
   "metadata": {
    "execution": {
     "iopub.execute_input": "2023-07-24T00:25:49.705152Z",
     "iopub.status.busy": "2023-07-24T00:25:49.704745Z",
     "iopub.status.idle": "2023-07-24T00:25:49.717604Z",
     "shell.execute_reply": "2023-07-24T00:25:49.716246Z"
    },
    "papermill": {
     "duration": 0.034444,
     "end_time": "2023-07-24T00:25:49.720311",
     "exception": false,
     "start_time": "2023-07-24T00:25:49.685867",
     "status": "completed"
    },
    "tags": []
   },
   "outputs": [
    {
     "name": "stdout",
     "output_type": "stream",
     "text": [
      "Categorical columns that will be one-hot encoded: ['MSZoning', 'Street', 'LotShape', 'LandContour', 'Utilities', 'LotConfig', 'LandSlope', 'Condition1', 'Condition2', 'BldgType', 'HouseStyle', 'RoofStyle', 'RoofMatl', 'ExterQual', 'ExterCond', 'Foundation', 'Heating', 'HeatingQC', 'CentralAir', 'KitchenQual', 'Functional', 'PavedDrive', 'SaleType', 'SaleCondition']\n",
      "\n",
      "Categorical columns that will be dropped from the dataset: ['Exterior1st', 'Neighborhood', 'Exterior2nd']\n"
     ]
    }
   ],
   "source": [
    "# Columns that will be one-hot encoded\n",
    "low_cardinality_cols = [col for col in object_cols if X_train[col].nunique() < 10]\n",
    "\n",
    "# Columns that will be dropped from the dataset\n",
    "high_cardinality_cols = list(set(object_cols)-set(low_cardinality_cols))\n",
    "\n",
    "print('Categorical columns that will be one-hot encoded:', low_cardinality_cols)\n",
    "print('\\nCategorical columns that will be dropped from the dataset:', high_cardinality_cols)"
   ]
  },
  {
   "cell_type": "markdown",
   "id": "0ebae552",
   "metadata": {
    "papermill": {
     "duration": 0.016644,
     "end_time": "2023-07-24T00:25:49.753658",
     "exception": false,
     "start_time": "2023-07-24T00:25:49.737014",
     "status": "completed"
    },
    "tags": []
   },
   "source": [
    "# Step 4: One-hot encoding\n",
    "\n",
    "Use the next code cell to one-hot encode the data in `X_train` and `X_valid`.  Set the preprocessed DataFrames to `OH_X_train` and `OH_X_valid`, respectively.  \n",
    "- The full list of categorical columns in the dataset can be found in the Python list `object_cols`.\n",
    "- You should only one-hot encode the categorical columns in `low_cardinality_cols`.  All other categorical columns should be dropped from the dataset. "
   ]
  },
  {
   "cell_type": "code",
   "execution_count": 21,
   "id": "d50b8f97",
   "metadata": {
    "execution": {
     "iopub.execute_input": "2023-07-24T00:25:49.789435Z",
     "iopub.status.busy": "2023-07-24T00:25:49.788996Z",
     "iopub.status.idle": "2023-07-24T00:25:49.849222Z",
     "shell.execute_reply": "2023-07-24T00:25:49.847812Z"
    },
    "papermill": {
     "duration": 0.081208,
     "end_time": "2023-07-24T00:25:49.851583",
     "exception": false,
     "start_time": "2023-07-24T00:25:49.770375",
     "status": "completed"
    },
    "tags": []
   },
   "outputs": [
    {
     "name": "stdout",
     "output_type": "stream",
     "text": [
      "(1168, 155)\n",
      "(292, 155)\n"
     ]
    },
    {
     "name": "stderr",
     "output_type": "stream",
     "text": [
      "/opt/conda/lib/python3.10/site-packages/sklearn/preprocessing/_encoders.py:868: FutureWarning: `sparse` was renamed to `sparse_output` in version 1.2 and will be removed in 1.4. `sparse_output` is ignored unless you leave `sparse` to its default value.\n",
      "  warnings.warn(\n"
     ]
    },
    {
     "data": {
      "application/javascript": [
       "parent.postMessage({\"jupyterEvent\": \"custom.exercise_interaction\", \"data\": {\"outcomeType\": 1, \"valueTowardsCompletion\": 0.5, \"interactionType\": 1, \"questionType\": 2, \"questionId\": \"4_OneHot\", \"learnToolsVersion\": \"0.3.4\", \"failureMessage\": \"\", \"exceptionClass\": \"\", \"trace\": \"\"}}, \"*\")"
      ],
      "text/plain": [
       "<IPython.core.display.Javascript object>"
      ]
     },
     "metadata": {},
     "output_type": "display_data"
    },
    {
     "data": {
      "text/markdown": [
       "<span style=\"color:#33cc33\">Correct</span>"
      ],
      "text/plain": [
       "Correct"
      ]
     },
     "metadata": {},
     "output_type": "display_data"
    }
   ],
   "source": [
    "from sklearn.preprocessing import OneHotEncoder\n",
    "\n",
    "# Use as many lines of code as you need!\n",
    "one_hotcoder = OneHotEncoder(handle_unknown = 'ignore', sparse = False)\n",
    "\n",
    "OH_X_train = pd.DataFrame(one_hotcoder.fit_transform(X_train[low_cardinality_cols]))\n",
    "# Your code here\n",
    "OH_X_valid = pd.DataFrame(one_hotcoder.transform(X_valid[low_cardinality_cols]))\n",
    "\n",
    "# One-hot encoding removed index; put it back\n",
    "OH_X_train.index = X_train.index\n",
    "OH_X_valid.index = X_valid.index\n",
    "\n",
    "\n",
    "#Drop object columns\n",
    "num_X_train = X_train.drop(object_cols, axis = 1)\n",
    "num_X_valid = X_valid.drop(object_cols, axis = 1)\n",
    "\n",
    "#Add num columns to OneHotCoder\n",
    "\n",
    "OH_X_train = pd.concat([num_X_train, OH_X_train], axis = 1)\n",
    "OH_X_valid = pd.concat([num_X_valid, OH_X_valid], axis = 1)\n",
    "\n",
    "#have Strings in all columns\n",
    "OH_X_train.columns = OH_X_train.columns.astype(str)\n",
    "OH_X_valid.columns = OH_X_valid.columns.astype(str)\n",
    "\n",
    "print(OH_X_train.shape)\n",
    "print(OH_X_valid.shape)\n",
    "\n",
    "# Check your answer\n",
    "step_4.check()"
   ]
  },
  {
   "cell_type": "code",
   "execution_count": null,
   "id": "9936605b",
   "metadata": {
    "papermill": {
     "duration": 0.017275,
     "end_time": "2023-07-24T00:25:49.886517",
     "exception": false,
     "start_time": "2023-07-24T00:25:49.869242",
     "status": "completed"
    },
    "tags": []
   },
   "outputs": [],
   "source": []
  },
  {
   "cell_type": "code",
   "execution_count": 22,
   "id": "9d828871",
   "metadata": {
    "execution": {
     "iopub.execute_input": "2023-07-24T00:25:49.922646Z",
     "iopub.status.busy": "2023-07-24T00:25:49.922241Z",
     "iopub.status.idle": "2023-07-24T00:25:49.926994Z",
     "shell.execute_reply": "2023-07-24T00:25:49.925852Z"
    },
    "papermill": {
     "duration": 0.025285,
     "end_time": "2023-07-24T00:25:49.929273",
     "exception": false,
     "start_time": "2023-07-24T00:25:49.903988",
     "status": "completed"
    },
    "tags": []
   },
   "outputs": [],
   "source": [
    "# Lines below will give you a hint or solution code\n",
    "#step_4.hint()\n",
    "#step_4.solution()"
   ]
  },
  {
   "cell_type": "markdown",
   "id": "6cd63537",
   "metadata": {
    "papermill": {
     "duration": 0.020265,
     "end_time": "2023-07-24T00:25:49.966856",
     "exception": false,
     "start_time": "2023-07-24T00:25:49.946591",
     "status": "completed"
    },
    "tags": []
   },
   "source": [
    "Run the next code cell to get the MAE for this approach."
   ]
  },
  {
   "cell_type": "code",
   "execution_count": 23,
   "id": "62bc4b2e",
   "metadata": {
    "execution": {
     "iopub.execute_input": "2023-07-24T00:25:50.002994Z",
     "iopub.status.busy": "2023-07-24T00:25:50.002619Z",
     "iopub.status.idle": "2023-07-24T00:25:52.134872Z",
     "shell.execute_reply": "2023-07-24T00:25:52.132967Z"
    },
    "papermill": {
     "duration": 2.153856,
     "end_time": "2023-07-24T00:25:52.137838",
     "exception": false,
     "start_time": "2023-07-24T00:25:49.983982",
     "status": "completed"
    },
    "tags": []
   },
   "outputs": [
    {
     "name": "stdout",
     "output_type": "stream",
     "text": [
      "MAE from Approach 3 (One-Hot Encoding):\n",
      "17525.345719178084\n"
     ]
    }
   ],
   "source": [
    "print(\"MAE from Approach 3 (One-Hot Encoding):\") \n",
    "print(score_dataset(OH_X_train, OH_X_valid, y_train, y_valid))"
   ]
  },
  {
   "cell_type": "markdown",
   "id": "df6ac4b3",
   "metadata": {
    "papermill": {
     "duration": 0.016641,
     "end_time": "2023-07-24T00:25:52.171567",
     "exception": false,
     "start_time": "2023-07-24T00:25:52.154926",
     "status": "completed"
    },
    "tags": []
   },
   "source": [
    "# Generate test predictions and submit your results\n",
    "\n",
    "After you complete Step 4, if you'd like to use what you've learned to submit your results to the leaderboard, you'll need to preprocess the test data before generating predictions.\n",
    "\n",
    "**This step is completely optional, and you do not need to submit results to the leaderboard to successfully complete the exercise.**\n",
    "\n",
    "Check out the previous exercise if you need help with remembering how to [join the competition](https://www.kaggle.com/c/home-data-for-ml-course) or save your results to CSV.  Once you have generated a file with your results, follow the instructions below:\n",
    "1. Begin by clicking on the **Save Version** button in the top right corner of the window.  This will generate a pop-up window.  \n",
    "2. Ensure that the **Save and Run All** option is selected, and then click on the **Save** button.\n",
    "3. This generates a window in the bottom left corner of the notebook.  After it has finished running, click on the number to the right of the **Save Version** button.  This pulls up a list of versions on the right of the screen.  Click on the ellipsis **(...)** to the right of the most recent version, and select **Open in Viewer**.  This brings you into view mode of the same page. You will need to scroll down to get back to these instructions.\n",
    "4. Click on the **Data** tab near the top of the screen.  Then, click on the file you would like to submit, and click on the **Submit** button to submit your results to the leaderboard.\n",
    "\n",
    "You have now successfully submitted to the competition!\n",
    "\n",
    "If you want to keep working to improve your performance, select the **Edit** button in the top right of the screen. Then you can change your code and repeat the process. There's a lot of room to improve, and you will climb up the leaderboard as you work.\n"
   ]
  },
  {
   "cell_type": "code",
   "execution_count": 24,
   "id": "f610a670",
   "metadata": {
    "execution": {
     "iopub.execute_input": "2023-07-24T00:25:52.207841Z",
     "iopub.status.busy": "2023-07-24T00:25:52.207212Z",
     "iopub.status.idle": "2023-07-24T00:25:53.943542Z",
     "shell.execute_reply": "2023-07-24T00:25:53.942315Z"
    },
    "papermill": {
     "duration": 1.757258,
     "end_time": "2023-07-24T00:25:53.946110",
     "exception": false,
     "start_time": "2023-07-24T00:25:52.188852",
     "status": "completed"
    },
    "tags": []
   },
   "outputs": [
    {
     "name": "stdout",
     "output_type": "stream",
     "text": [
      "(1448, 57)\n",
      "(1168, 57)\n",
      "             0\n",
      "0    221869.70\n",
      "1    150456.34\n",
      "2    111168.47\n",
      "3    221287.91\n",
      "4     90970.00\n",
      "..         ...\n",
      "287  307338.23\n",
      "288  451607.11\n",
      "289  153933.62\n",
      "290   76862.01\n",
      "291   88273.97\n",
      "\n",
      "[292 rows x 1 columns]\n",
      "      SalePrice\n",
      "Id             \n",
      "530      200624\n",
      "492      133000\n",
      "460      110000\n",
      "280      192000\n",
      "656       88000\n",
      "...         ...\n",
      "327      324000\n",
      "441      555000\n",
      "1388     136000\n",
      "1324      82500\n",
      "62       101000\n",
      "\n",
      "[292 rows x 1 columns]\n"
     ]
    }
   ],
   "source": [
    "# (Optional) Your code here\n",
    "\n",
    "from sklearn.preprocessing import OrdinalEncoder\n",
    "\n",
    "# Drop categorical columns that will not be encoded\n",
    "finaltest_X_test = X_test.drop(bad_label_cols, axis=1)\n",
    "\n",
    "#make a copy\n",
    "final_X_train = finaltest_X_test.copy()\n",
    "\n",
    "# Apply ordinal encoder \n",
    "ordinal_encoder = OrdinalEncoder() # Your code here\n",
    "finaltest_X_test[good_label_cols] = ordinal_encoder.fit_transform(X_test[good_label_cols])\n",
    "\n",
    "#define model\n",
    "model = RandomForestRegressor(n_estimators=100, random_state=0)\n",
    "model.fit(label_X_train, y_train)\n",
    "\n",
    "finaltest_X_test = finaltest_X_test.dropna()\n",
    "\n",
    "print(finaltest_X_test.shape)\n",
    "print(label_X_train.shape)\n",
    "    \n",
    "preds_test = model.predict(label_X_valid)\n",
    "\n",
    "\n",
    "print(pd.DataFrame(preds_test))\n",
    "print(pd.DataFrame(y_valid))"
   ]
  },
  {
   "cell_type": "markdown",
   "id": "730bc89e",
   "metadata": {
    "papermill": {
     "duration": 0.017303,
     "end_time": "2023-07-24T00:25:53.980597",
     "exception": false,
     "start_time": "2023-07-24T00:25:53.963294",
     "status": "completed"
    },
    "tags": []
   },
   "source": [
    "# Keep going\n",
    "\n",
    "With missing value handling and categorical encoding, your modeling process is getting complex. This complexity gets worse when you want to save your model to use in the future. The key to managing this complexity is something called **pipelines**. \n",
    "\n",
    "**[Learn to use pipelines](https://www.kaggle.com/alexisbcook/pipelines)** to preprocess datasets with categorical variables, missing values and any other messiness your data throws at you."
   ]
  },
  {
   "cell_type": "markdown",
   "id": "dda59ab4",
   "metadata": {
    "papermill": {
     "duration": 0.01674,
     "end_time": "2023-07-24T00:25:54.014329",
     "exception": false,
     "start_time": "2023-07-24T00:25:53.997589",
     "status": "completed"
    },
    "tags": []
   },
   "source": [
    "---\n",
    "\n",
    "\n",
    "\n",
    "\n",
    "*Have questions or comments? Visit the [course discussion forum](https://www.kaggle.com/learn/intermediate-machine-learning/discussion) to chat with other learners.*"
   ]
  }
 ],
 "metadata": {
  "kernelspec": {
   "display_name": "Python 3",
   "language": "python",
   "name": "python3"
  },
  "language_info": {
   "codemirror_mode": {
    "name": "ipython",
    "version": 3
   },
   "file_extension": ".py",
   "mimetype": "text/x-python",
   "name": "python",
   "nbconvert_exporter": "python",
   "pygments_lexer": "ipython3",
   "version": "3.10.12"
  },
  "papermill": {
   "default_parameters": {},
   "duration": 24.526514,
   "end_time": "2023-07-24T00:25:55.055498",
   "environment_variables": {},
   "exception": null,
   "input_path": "__notebook__.ipynb",
   "output_path": "__notebook__.ipynb",
   "parameters": {},
   "start_time": "2023-07-24T00:25:30.528984",
   "version": "2.4.0"
  }
 },
 "nbformat": 4,
 "nbformat_minor": 5
}
